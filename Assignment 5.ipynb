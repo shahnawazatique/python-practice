{
 "cells": [
  {
   "cell_type": "code",
   "execution_count": 1,
   "id": "5b7ea79c-7aa6-44dc-9825-9f37a8fd8f3e",
   "metadata": {},
   "outputs": [
    {
     "name": "stdout",
     "output_type": "stream",
     "text": [
      "Shahnawaz\n"
     ]
    }
   ],
   "source": [
    "print (\"Shahnawaz\")"
   ]
  },
  {
   "cell_type": "code",
   "execution_count": 2,
   "id": "91fabe62-419f-42c1-9df9-5e9575415e3f",
   "metadata": {},
   "outputs": [
    {
     "name": "stdout",
     "output_type": "stream",
     "text": [
      "{101: {'name': 'Laptop', 'category': 'Electronics', 'price': 1200, 'stock': 50}, 102: {'name': 'Shirt', 'category': 'Apparel', 'price': 25, 'stock': 250}, 103: {'name': 'Coffee Maker', 'category': 'Home Appliances', 'price': 80, 'stock': 30}}\n",
      "{101: {'name': 'Laptop', 'category': 'Electronics', 'price': 1200, 'stock': 50}, 102: {'name': 'Shirt', 'category': 'Apparel', 'price': 25, 'stock': 250}, 103: {'name': 'Coffee Maker', 'category': 'Home Appliances', 'price': 80, 'stock': 30}, 104: {'name': 'Smartphone', 'category': 'Electronics', 'price': 800, 'stock': 100}}\n"
     ]
    }
   ],
   "source": [
    "# Q1. An e-commerce store stores information about its products in a nested dictionary. The outer dictionary uses product IDs as keys, and the inner dictionary stores product details like name, category, price, and stock quantity. products = { 101: {\"name\": \"Laptop\", \"category\": \"Electronics\", \"price\": 1200, \"stock\": 50}, 102: {\"name\": \"Shirt\", \"category\": \"Apparel\", \"price\": 25, \"stock\": 200}, 103: {\"name\": \"Coffee Maker\", \"category\": \"Home Appliances\", \"price\": 80, \"stock\": 30} }\n",
    "\n",
    "# • Increase the stock of the \"Shirt\" product (add 50 more units) using increment/decrement operators\n",
    "\n",
    "# • Add a new product (e.g., \"Smartphone\")\n",
    "\n",
    "# Nested dictionary of products\n",
    "products = {\n",
    "    101: {\"name\": \"Laptop\", \"category\": \"Electronics\", \"price\": 1200, \"stock\": 50},\n",
    "    102: {\"name\": \"Shirt\", \"category\": \"Apparel\", \"price\": 25, \"stock\": 200},\n",
    "    103: {\"name\": \"Coffee Maker\", \"category\": \"Home Appliances\", \"price\": 80, \"stock\": 30}\n",
    "}\n",
    "\n",
    "# 1) Increase the stock of \"Shirt\" by 50\n",
    "products[102][\"stock\"] += 50   # increment operator\n",
    "\n",
    "# Print after increasing stock\n",
    "print(products)\n",
    "\n",
    "# 2) Add a new product (Smartphone)\n",
    "products[104] = {\"name\": \"Smartphone\", \"category\": \"Electronics\", \"price\": 800, \"stock\": 100}\n",
    "\n",
    "# Print after adding new product\n",
    "print(products)\n"
   ]
  },
  {
   "cell_type": "code",
   "execution_count": 3,
   "id": "e0cfe4e7-1559-4865-a960-85fd793fd8db",
   "metadata": {},
   "outputs": [
    {
     "name": "stdout",
     "output_type": "stream",
     "text": [
      "['orange', 'banana', 'grape', 'apple']\n"
     ]
    }
   ],
   "source": [
    "# Q2. You are given a list that contains some duplicate items. Remove the duplicates by converting the list to a set. Final output should be in list\n",
    "\n",
    "# shopping_list = [\"apple\", \"banana\", \"apple\", \"orange\", \"banana\", \"grape\"]\n",
    "\n",
    "\n",
    "# Given list with duplicates\n",
    "shopping_list = [\"apple\", \"banana\", \"apple\", \"orange\", \"banana\", \"grape\"]\n",
    "\n",
    "# Convert to set to remove duplicates\n",
    "unique_items = set(shopping_list)\n",
    "\n",
    "# Convert back to list\n",
    "final_list = list(unique_items)\n",
    "\n",
    "# Print output\n",
    "print(final_list)\n"
   ]
  },
  {
   "cell_type": "code",
   "execution_count": 4,
   "id": "64f7bfdb-a82c-42f0-bf13-2c28099a04f9",
   "metadata": {},
   "outputs": [
    {
     "name": "stdout",
     "output_type": "stream",
     "text": [
      "['apple', 'banana', 'orange', 'grape']\n"
     ]
    }
   ],
   "source": [
    "shopping_list = [\"apple\", \"banana\", \"apple\", \"orange\", \"banana\", \"grape\"]\n",
    "\n",
    "# Remove duplicates while keeping order\n",
    "final_list = []\n",
    "for item in shopping_list:\n",
    "    if item not in final_list:\n",
    "        final_list.append(item)\n",
    "\n",
    "print(final_list)\n"
   ]
  },
  {
   "cell_type": "code",
   "execution_count": 5,
   "id": "c8578376-0c6c-49ef-91b1-59fc9ca730a1",
   "metadata": {},
   "outputs": [
    {
     "name": "stdout",
     "output_type": "stream",
     "text": [
      "Students only in Course A: {'John', 'Bob'}\n",
      "Students only in one of the two courses: {'Eve', 'Charlie', 'Bob', 'John'}\n"
     ]
    }
   ],
   "source": [
    "# Q3. You are managing a list of students enrolled in two different courses. You need to perform various set operations to understand the student enrollment. Task: Create two sets: one for students in \"Course A\" and one for students in \"Course B\". Find the students who are in \"Course A\" but not in \"Course B\" (difference). Find students who are only in one of the two courses (symmetric difference). course_a = {\"John\", \"Alice\", \"Bob\", \"David\"} course_b = {\"Alice\", \"Eve\", \"Charlie\", \"David\"}\n",
    "\n",
    "# Using set methods\n",
    "\n",
    "# • Find students who are in Course A but not in Course B (difference)\n",
    "\n",
    "# • Find students who are only in one of the two courses (symmetric difference)\n",
    "\n",
    "\n",
    "# Sets of students in two courses\n",
    "course_a = {\"John\", \"Alice\", \"Bob\", \"David\"}\n",
    "course_b = {\"Alice\", \"Eve\", \"Charlie\", \"David\"}\n",
    "\n",
    "# Difference: Students who are in Course A but not in Course B\n",
    "only_in_a = course_a.difference(course_b)\n",
    "print(\"Students only in Course A:\", only_in_a)\n",
    "\n",
    "# Symmetric Difference: Students who are only in one of the two courses\n",
    "only_in_one = course_a.symmetric_difference(course_b)\n",
    "print(\"Students only in one of the two courses:\", only_in_one)\n",
    "\n",
    "\n",
    "\n",
    "\n"
   ]
  },
  {
   "cell_type": "code",
   "execution_count": 6,
   "id": "15556b26-b1cf-4d72-86c6-79b457ad51d9",
   "metadata": {},
   "outputs": [
    {
     "name": "stdout",
     "output_type": "stream",
     "text": [
      "----- Book Details -----\n",
      "Title of the book      : Harry Potter\n",
      "Author’s name          : JK Rowlings\n",
      "Year of publication    : 2000\n",
      "Price of the book      : $ 180.0\n"
     ]
    }
   ],
   "source": [
    "# Q4. Write a Python program to store and display the details of a book.\n",
    "\n",
    "# The program should ask the user to input the following information:\n",
    "\n",
    "# Title of the book\n",
    "\n",
    "# Author’s name\n",
    "\n",
    "# Year of publication\n",
    "\n",
    "# Price of the booK\n",
    "\n",
    "# Store the entered details in a tuple.\n",
    "\n",
    "# Finally, display the book details in a proper format as shown below:\n",
    "\n",
    "\n",
    "\n",
    "# STEP 1: Book ki details assign karna (direct, kyunki Jupyter me input() error deta hai)\n",
    "title = \"Harry Potter\"        # Book ka title\n",
    "author = \"JK Rowlings\"        # Book ka author\n",
    "year = 2000                   # Publication year\n",
    "price = 180.0                 # Price of the book\n",
    "\n",
    "# STEP 2: Tuple me sari details store karna\n",
    "book = (title, author, year, price)\n",
    "\n",
    "# STEP 3: Book details ko proper format me print karna\n",
    "print(\"----- Book Details -----\")\n",
    "print(\"Title of the book      :\", book[0])\n",
    "print(\"Author’s name          :\", book[1])\n",
    "print(\"Year of publication    :\", book[2])\n",
    "print(\"Price of the book      : $\", book[3])\n"
   ]
  },
  {
   "cell_type": "code",
   "execution_count": 7,
   "id": "755b5b14-328e-42bc-9396-fe31eecb653a",
   "metadata": {},
   "outputs": [
    {
     "name": "stdin",
     "output_type": "stream",
     "text": [
      "Enter the subject you want to check:  Math\n"
     ]
    },
    {
     "name": "stdout",
     "output_type": "stream",
     "text": [
      "✅ Math is available in the offered subjects.\n"
     ]
    }
   ],
   "source": [
    "# Q5. Write a program to check if a user’s chosen subject is available in the list of offered subjects.\n",
    "\n",
    "# Instructions:\n",
    "\n",
    "# Given a list of subjects, ask the user to input a subject.\n",
    "\n",
    "# Display whether the subject is available or not.\n",
    "\n",
    "\n",
    "\n",
    "# List of offered subjects\n",
    "offered_subjects = [\"Math\", \"English\", \"Computer\", \"Science\", \"History\"]\n",
    "\n",
    "# User input\n",
    "chosen_subject = input(\"Enter the subject you want to check: \")\n",
    "\n",
    "# Checking\n",
    "if chosen_subject in offered_subjects:\n",
    "    print(f\"✅ {chosen_subject} is available in the offered subjects.\")\n",
    "else:\n",
    "    print(f\"❌ {chosen_subject} is NOT available in the offered subjects.\")\n"
   ]
  },
  {
   "cell_type": "code",
   "execution_count": 8,
   "id": "6d063dc6-4605-42a9-9d87-c345a3f1768f",
   "metadata": {},
   "outputs": [
    {
     "name": "stdin",
     "output_type": "stream",
     "text": [
      "Enter first number:  2\n"
     ]
    },
    {
     "name": "stdout",
     "output_type": "stream",
     "text": [
      "First number is Positive\n",
      "\n"
     ]
    },
    {
     "name": "stdin",
     "output_type": "stream",
     "text": [
      "Enter second number:  0\n"
     ]
    },
    {
     "name": "stdout",
     "output_type": "stream",
     "text": [
      "Second number is Zero\n",
      "\n"
     ]
    },
    {
     "name": "stdin",
     "output_type": "stream",
     "text": [
      "Enter third number:  1\n"
     ]
    },
    {
     "name": "stdout",
     "output_type": "stream",
     "text": [
      "Third number is Positive\n",
      "\n"
     ]
    }
   ],
   "source": [
    "# Q6. Write a Python program that asks the user to enter a number.\n",
    "\n",
    "# If the number is greater than 0, print \"Positive\".\n",
    "\n",
    "# If the number is less than 0, print \"Negative\".\n",
    "\n",
    "# If the number is exactly 0, print \"Zero\".\n",
    "\n",
    "\n",
    "\n",
    "# Q6: Check Positive, Negative, or Zero (for 3 numbers separately)\n",
    "\n",
    "# Pehla number input\n",
    "num1 = int(input(\"Enter first number: \"))\n",
    "if num1 > 0:\n",
    "    print(\"First number is Positive\\n\")\n",
    "elif num1 < 0:\n",
    "    print(\"First number is Negative\\n\")\n",
    "else:\n",
    "    print(\"First number is Zero\\n\")\n",
    "\n",
    "# Dusra number input\n",
    "num2 = int(input(\"Enter second number: \"))\n",
    "if num2 > 0:\n",
    "    print(\"Second number is Positive\\n\")\n",
    "elif num2 < 0:\n",
    "    print(\"Second number is Negative\\n\")\n",
    "else:\n",
    "    print(\"Second number is Zero\\n\")\n",
    "\n",
    "# Teesra number input\n",
    "num3 = int(input(\"Enter third number: \"))\n",
    "if num3 > 0:\n",
    "    print(\"Third number is Positive\\n\")\n",
    "elif num3 < 0:\n",
    "    print(\"Third number is Negative\\n\")\n",
    "else:\n",
    "    print(\"Third number is Zero\\n\")\n",
    "\n"
   ]
  },
  {
   "cell_type": "code",
   "execution_count": 9,
   "id": "ec0f5ed5-add8-4df5-a1f0-9b72d3e03902",
   "metadata": {},
   "outputs": [
    {
     "name": "stdin",
     "output_type": "stream",
     "text": [
      "Enter username:  admin\n",
      "Enter password:  admin@123\n"
     ]
    },
    {
     "name": "stdout",
     "output_type": "stream",
     "text": [
      "Login Successful\n"
     ]
    }
   ],
   "source": [
    "# Q7. Write a Python program that simulates a simple login system.\n",
    "\n",
    "# The correct username is 'admin' and the correct password is 'admin@123'\n",
    "\n",
    "# The program should take username and password as input from the user.\n",
    "\n",
    "# It should check the input and display messages according to the following conditions:\n",
    "\n",
    "# - If both username and password are correct → print \"Login Successful\".\n",
    "\n",
    "# - If username is wrong but password is correct → print \"Invalid Username\".\n",
    "\n",
    "# - If username is correct but password is wrong → print \"Invalid Password\".\n",
    "\n",
    "# - If both username and password are wrong → print \"Invalid Username and Password\".\n",
    "\n",
    "\n",
    "\n",
    "\n",
    "\n",
    "\n",
    "\n",
    "# Q7: Simple Login System\n",
    "\n",
    "# Correct credentials\n",
    "correct_username = \"admin\"\n",
    "correct_password = \"admin@123\"\n",
    "\n",
    "# User input\n",
    "username = input(\"Enter username: \")\n",
    "password = input(\"Enter password: \")\n",
    "\n",
    "# Conditions check\n",
    "if username == correct_username and password == correct_password:\n",
    "    print(\"Login Successful\")\n",
    "elif username != correct_username and password == correct_password:\n",
    "    print(\"Invalid Username\")\n",
    "elif username == correct_username and password != correct_password:\n",
    "    print(\"Invalid Password\")\n",
    "else:\n",
    "    print(\"Invalid Username and Password\")\n",
    "\n"
   ]
  },
  {
   "cell_type": "code",
   "execution_count": 10,
   "id": "c27fd4ba-d552-4691-9467-b59667cf757c",
   "metadata": {},
   "outputs": [
    {
     "name": "stdout",
     "output_type": "stream",
     "text": [
      "Updated Student Details:\n",
      "{'Ali': {'age': 20, 'grade': 'A', 'city': 'Karachi'}, 'Sara': {'age': 21, 'grade': 'B', 'city': 'Lahore'}, 'Hina': {'age': 22, 'grade': 'C', 'city': 'Faisalabad'}, 'Zara': {'age': 20, 'grade': 'B', 'city': 'Multan'}}\n"
     ]
    }
   ],
   "source": [
    "# Q8.\n",
    "\n",
    "# student_details = { \"Ali\": {\"age\": 20, \"grade\": \"A\", \"city\": \"Karachi\"}, \"Sara\": {\"age\": 21, \"grade\": \"B\", \"city\": \"Lahore\"}, \"Omar\": {\"age\": 19, \"grade\": \"A\", \"city\": \"Islamabad\"}, \"Hina\": {\"age\": 22, \"grade\": \"C\", \"city\": \"Faisalabad\"} }\n",
    "\n",
    "# Add a new student using method: \"Zara\": {\"age\": 20, \"grade\": \"B\", \"city\": \"Multan\"}\n",
    "\n",
    "# Remove a student \"Omer\" using method\n",
    "\n",
    "\n",
    "\n",
    "\n",
    "\n",
    "# Q8: Student Details\n",
    "\n",
    "student_details = {\n",
    "    \"Ali\": {\"age\": 20, \"grade\": \"A\", \"city\": \"Karachi\"},\n",
    "    \"Sara\": {\"age\": 21, \"grade\": \"B\", \"city\": \"Lahore\"},\n",
    "    \"Omar\": {\"age\": 19, \"grade\": \"A\", \"city\": \"Islamabad\"},\n",
    "    \"Hina\": {\"age\": 22, \"grade\": \"C\", \"city\": \"Faisalabad\"}\n",
    "}\n",
    "\n",
    "# 1. Add new student \"Zara\"\n",
    "student_details[\"Zara\"] = {\"age\": 20, \"grade\": \"B\", \"city\": \"Multan\"}\n",
    "\n",
    "# 2. Remove student \"Omar\" (using pop method)\n",
    "student_details.pop(\"Omar\", None)   # Agar key exist nahi kare to error na aaye\n",
    "\n",
    "# Final Output\n",
    "print(\"Updated Student Details:\")\n",
    "print(student_details)\n"
   ]
  },
  {
   "cell_type": "code",
   "execution_count": 11,
   "id": "cd84241a-2d15-41b5-9c26-b39114d58de4",
   "metadata": {},
   "outputs": [
    {
     "name": "stdin",
     "output_type": "stream",
     "text": [
      "Enter your age:  22\n",
      "Enter your credit score:  888\n",
      "Enter your annual income (in dollars):  800000\n"
     ]
    },
    {
     "name": "stdout",
     "output_type": "stream",
     "text": [
      "Eligible for Loan (High Credit Score relaxation).\n"
     ]
    }
   ],
   "source": [
    "\n",
    "\n",
    "# Q9. Write program to check a person’s eligibility for a loan based on age, credit score, and income. This time, the eligibility criteria will be:\n",
    "\n",
    "# The person must be 18 years or older. The person must have a credit score of 650 or higher. The person must have an annual income of at least 30000 dollars If the person has a credit score of 700 or higher, they may still be eligible with an income of 25000 dollars or more.\n",
    "\n",
    "\n",
    "\n",
    "\n",
    "\n",
    "# Q9: Loan Eligibility Check\n",
    "\n",
    "# User se details lena\n",
    "age = int(input(\"Enter your age: \"))\n",
    "credit_score = int(input(\"Enter your credit score: \"))\n",
    "income = int(input(\"Enter your annual income (in dollars): \"))\n",
    "\n",
    "# Eligibility check\n",
    "if age < 18:\n",
    "    print(\"Not Eligible: Age must be 18 or older.\")\n",
    "elif credit_score >= 700 and income >= 25000:\n",
    "    print(\"Eligible for Loan (High Credit Score relaxation).\")\n",
    "elif credit_score >= 650 and income >= 30000:\n",
    "    print(\"Eligible for Loan.\")\n",
    "else:\n",
    "    print(\"Not Eligible for Loan.\")\n"
   ]
  },
  {
   "cell_type": "code",
   "execution_count": 12,
   "id": "735568cf-6309-4163-a4a4-f6ccd5f6548d",
   "metadata": {},
   "outputs": [
    {
     "name": "stdin",
     "output_type": "stream",
     "text": [
      "Enter a single character:  a\n"
     ]
    },
    {
     "name": "stdout",
     "output_type": "stream",
     "text": [
      "Vowel\n"
     ]
    }
   ],
   "source": [
    "\n",
    "\n",
    "# Q10. Write a Python program to check whether the entered letter is a vowel, a consonant, or invalid input.\n",
    "\n",
    "# The program should take a single character as input. If the character is a vowel (a, e, i, o, u in both upper and lower case), it will print \"Vowel\". If it is an alphabet but not a vowel, it will print \"Consonant\". Otherwise, it will print \"Please enter valid alphabet\".\n",
    "\n",
    "# Q10: Check Vowel, Consonant, or Invalid\n",
    "\n",
    "# User se ek character lena\n",
    "ch = input(\"Enter a single character: \")\n",
    "\n",
    "# Check karna\n",
    "if len(ch) == 1 and ch.isalpha():  # sirf 1 alphabet hona chahiye\n",
    "    if ch.lower() in ['a', 'e', 'i', 'o', 'u']:\n",
    "        print(\"Vowel\")\n",
    "    else:\n",
    "        print(\"Consonant\")\n",
    "else:\n",
    "    print(\"Please enter valid alphabet\")\n"
   ]
  },
  {
   "cell_type": "code",
   "execution_count": null,
   "id": "8a2bf66c-231b-4ed0-b4a7-922304e2c736",
   "metadata": {},
   "outputs": [],
   "source": []
  }
 ],
 "metadata": {
  "kernelspec": {
   "display_name": "Python [conda env:base] *",
   "language": "python",
   "name": "conda-base-py"
  },
  "language_info": {
   "codemirror_mode": {
    "name": "ipython",
    "version": 3
   },
   "file_extension": ".py",
   "mimetype": "text/x-python",
   "name": "python",
   "nbconvert_exporter": "python",
   "pygments_lexer": "ipython3",
   "version": "3.13.5"
  }
 },
 "nbformat": 4,
 "nbformat_minor": 5
}
